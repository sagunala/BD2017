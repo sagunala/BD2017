{
  "nbformat": 4,
  "nbformat_minor": 0,
  "metadata": {
    "colab": {
      "name": "Linear_Regression _Student.ipynb",
      "provenance": []
    },
    "kernelspec": {
      "name": "python3",
      "display_name": "Python 3"
    }
  },
  "cells": [
    {
      "cell_type": "code",
      "metadata": {
        "id": "mDXic47W-NXu",
        "colab_type": "code",
        "colab": {}
      },
      "source": [
        "import numpy as np\n",
        "import pandas as pd\n",
        "import sklearn\n",
        "from sklearn import linear_model\n",
        "from sklearn.utils import shuffle\n",
        "import matplotlib.pyplot as plt\n",
        "import pickle"
      ],
      "execution_count": 0,
      "outputs": []
    },
    {
      "cell_type": "code",
      "metadata": {
        "id": "JK88KOuE-mxR",
        "colab_type": "code",
        "colab": {}
      },
      "source": [
        "data = pd.read_csv(\"student-mat.csv\", sep=\";\")\n",
        "# Since our data is seperated by semicolons we need to do sep=\";\""
      ],
      "execution_count": 0,
      "outputs": []
    },
    {
      "cell_type": "code",
      "metadata": {
        "id": "z4QtXzdB_UB3",
        "colab_type": "code",
        "colab": {
          "base_uri": "https://localhost:8080/",
          "height": 153
        },
        "outputId": "ce22cc74-f37a-486f-c08d-f435b3768160"
      },
      "source": [
        "print(data.head())"
      ],
      "execution_count": 29,
      "outputs": [
        {
          "output_type": "stream",
          "text": [
            "  school sex  age address famsize Pstatus  ...  Walc  health absences  G1  G2  G3\n",
            "0     GP   F   18       U     GT3       A  ...     1       3        6   5   6   6\n",
            "1     GP   F   17       U     GT3       T  ...     1       3        4   5   5   6\n",
            "2     GP   F   15       U     LE3       T  ...     3       3       10   7   8  10\n",
            "3     GP   F   15       U     GT3       T  ...     1       5        2  15  14  15\n",
            "4     GP   F   16       U     GT3       T  ...     2       5        4   6  10  10\n",
            "\n",
            "[5 rows x 33 columns]\n"
          ],
          "name": "stdout"
        }
      ]
    },
    {
      "cell_type": "code",
      "metadata": {
        "id": "Ez8NHACy_cAs",
        "colab_type": "code",
        "colab": {
          "base_uri": "https://localhost:8080/",
          "height": 119
        },
        "outputId": "4c499525-96ba-4b50-b256-44f7de94e657"
      },
      "source": [
        "print(data.columns)"
      ],
      "execution_count": 30,
      "outputs": [
        {
          "output_type": "stream",
          "text": [
            "Index(['school', 'sex', 'age', 'address', 'famsize', 'Pstatus', 'Medu', 'Fedu',\n",
            "       'Mjob', 'Fjob', 'reason', 'guardian', 'traveltime', 'studytime',\n",
            "       'failures', 'schoolsup', 'famsup', 'paid', 'activities', 'nursery',\n",
            "       'higher', 'internet', 'romantic', 'famrel', 'freetime', 'goout', 'Dalc',\n",
            "       'Walc', 'health', 'absences', 'G1', 'G2', 'G3'],\n",
            "      dtype='object')\n"
          ],
          "name": "stdout"
        }
      ]
    },
    {
      "cell_type": "code",
      "metadata": {
        "id": "DhVkKwLq_jh7",
        "colab_type": "code",
        "colab": {}
      },
      "source": [
        "data = data[[\"G1\", \"G2\", \"G3\", \"studytime\", \"failures\", \"absences\"]]"
      ],
      "execution_count": 0,
      "outputs": []
    },
    {
      "cell_type": "code",
      "metadata": {
        "id": "BvafWGo0_z7-",
        "colab_type": "code",
        "colab": {}
      },
      "source": [
        "predict = \"G3\"\n",
        "X= np.array(data.drop([predict], 1))\n",
        "y= np.array(data[predict])"
      ],
      "execution_count": 0,
      "outputs": []
    },
    {
      "cell_type": "code",
      "metadata": {
        "id": "5RKshh30Arof",
        "colab_type": "code",
        "colab": {}
      },
      "source": [
        "# Data split\n",
        "X_train, X_test, y_train, y_test = sklearn.model_selection.train_test_split(X, y, test_size = 0.1)"
      ],
      "execution_count": 0,
      "outputs": []
    },
    {
      "cell_type": "code",
      "metadata": {
        "id": "GCUmOce6BxS2",
        "colab_type": "code",
        "colab": {}
      },
      "source": [
        "# Define Model\n",
        "linear = linear_model.LinearRegression()"
      ],
      "execution_count": 0,
      "outputs": []
    },
    {
      "cell_type": "code",
      "metadata": {
        "id": "lRvAqaaVCcqY",
        "colab_type": "code",
        "colab": {
          "base_uri": "https://localhost:8080/",
          "height": 34
        },
        "outputId": "56a53ea2-e26e-4afb-d285-0c450870af03"
      },
      "source": [
        "#Train and Score\n",
        "linear.fit(X_train, y_train)\n",
        "acc = linear.score(X_train, y_train)\n",
        "acc1 = linear.score(X_test, y_test)\n",
        "print(acc, acc1)"
      ],
      "execution_count": 35,
      "outputs": [
        {
          "output_type": "stream",
          "text": [
            "0.8342841281051602 0.7823592760555229\n"
          ],
          "name": "stdout"
        }
      ]
    },
    {
      "cell_type": "code",
      "metadata": {
        "id": "5er331gHDPxh",
        "colab_type": "code",
        "colab": {
          "base_uri": "https://localhost:8080/",
          "height": 85
        },
        "outputId": "1caa886c-8af0-4033-d730-c3818f934647"
      },
      "source": [
        "#View the constants\n",
        "print('Coefficient: \\n', linear.coef_) # These are each slope value\n",
        "print('Intercept: \\n', linear.intercept_) # This is the intercept"
      ],
      "execution_count": 36,
      "outputs": [
        {
          "output_type": "stream",
          "text": [
            "Coefficient: \n",
            " [ 0.12768699  0.98579608 -0.17620448 -0.20700099  0.02938019]\n",
            "Intercept: \n",
            " -1.2510232319702457\n"
          ],
          "name": "stdout"
        }
      ]
    },
    {
      "cell_type": "code",
      "metadata": {
        "id": "jM2R5ljnDU0e",
        "colab_type": "code",
        "colab": {
          "base_uri": "https://localhost:8080/",
          "height": 697
        },
        "outputId": "1804ed19-ed52-4edc-8268-7b6d4cba6c7c"
      },
      "source": [
        "predictions = linear.predict(X_test)\n",
        "for x in range(len(predictions)):\n",
        "  print(predictions[x], X_test[x], y_test[x])"
      ],
      "execution_count": 37,
      "outputs": [
        {
          "output_type": "stream",
          "text": [
            "7.559806286277203 [10  8  2  0  0] 9\n",
            "15.079753111471023 [16 15  4  0  7] 17\n",
            "8.466432865995309 [8 9 1 0 0] 8\n",
            "5.136226568559688 [6 6 2 0 2] 6\n",
            "8.82916137018456 [9 9 1 0 8] 10\n",
            "12.744160638814739 [12 13  2  0  0] 13\n",
            "10.35382258180324 [13 10  2  1 22] 11\n",
            "15.226500736003493 [16 15  2  0  0] 15\n",
            "9.904369831872664 [12 10  3  0 10] 12\n",
            "14.971126763394905 [14 15  2  0  0] 15\n",
            "5.174356662191588 [7 6 1 1 0] 0\n",
            "16.291466308256965 [18 16  3  0  0] 16\n",
            "8.545602362262994 [10  9  2  0  0] 0\n",
            "12.140307029392007 [12 12  2  0 13] 13\n",
            "5.322673934335221 [7 6 2 0 4] 6\n",
            "4.4735359175929 [6 5 1 0 7] 6\n",
            "14.922609273358296 [15 15  3  0  0] 15\n",
            "6.826926029157455 [ 9  7  2  1 20] 8\n",
            "8.348988769125645 [8 9 2 0 2] 8\n",
            "6.975166639228274 [ 9  7  2  0 18] 6\n",
            "11.81712494230019 [12 12  2  0  2] 11\n",
            "3.8361516335239907 [7 5 3 1 0] 0\n",
            "17.198092887975072 [16 17  2  0  0] 17\n",
            "6.063262265074238 [6 7 2 0 0] 0\n",
            "9.600401707154653 [11 10  3  0  4] 11\n",
            "8.121578662787144 [6 9 1 1 4] 8\n",
            "13.906161191141434 [12 14  1  0  0] 15\n",
            "10.575954893705813 [10 11  2  0  2] 11\n",
            "6.494840714023729 [8 7 1 0 0] 6\n",
            "8.162541403350112 [7 9 2 0 0] 8\n",
            "8.428158265393328 [10  9  3  0  2] 10\n",
            "10.693475652648292 [10 11  2  0  6] 11\n",
            "8.407749148596885 [8 9 2 0 4] 10\n",
            "16.33998379829358 [17 16  2  0  0] 17\n",
            "16.212450136134912 [16 16  4  0 12] 16\n",
            "9.804791218808536 [ 8 10  1  0 12] 10\n",
            "5.442259296448064 [6 7 2 3 0] 0\n",
            "10.959015852618693 [13 11  2  0  2] 11\n",
            "7.912291901031825 [10  8  1  0  6] 11\n",
            "18.92855993471317 [17 18  2  0 21] 18\n"
          ],
          "name": "stdout"
        }
      ]
    },
    {
      "cell_type": "code",
      "metadata": {
        "id": "eKQ8zoAXc5cP",
        "colab_type": "code",
        "colab": {
          "base_uri": "https://localhost:8080/",
          "height": 1000
        },
        "outputId": "034d7087-1254-48e1-c1c7-37340f26ab2e"
      },
      "source": [
        "# TRAIN MODEL MULTIPLE TIMES FOR BEST SCORE\n",
        "best = 0\n",
        "for _ in range(20):\n",
        "    X_train, X_test, y_train, y_test = sklearn.model_selection.train_test_split(X, y, test_size=0.1)\n",
        "\n",
        "    linear = linear_model.LinearRegression()\n",
        "\n",
        "    linear.fit(X_train, y_train)\n",
        "    acc = linear.score(X_test, y_test)\n",
        "    print(\"Accuracy: \" + str(acc))\n",
        "\n",
        "    if acc > best:\n",
        "        best = acc\n",
        "        with open(\"studentgrades.pickle\", \"wb\") as f:\n",
        "            pickle.dump(linear, f)\n",
        "\n",
        "# LOAD MODEL\n",
        "pickle_in = open(\"studentgrades.pickle\", \"rb\")\n",
        "linear = pickle.load(pickle_in)\n",
        "\n",
        "\n",
        "print(\"-------------------------\")\n",
        "print('Coefficient: \\n', linear.coef_)\n",
        "print('Intercept: \\n', linear.intercept_)\n",
        "print(\"-------------------------\")\n",
        "\n",
        "predicted= linear.predict(X_test)\n",
        "for x in range(len(predicted)):\n",
        "    print(predicted[x], X_test[x], y_test[x])\n",
        "\n",
        "\n",
        "# Drawing and plotting model\n",
        "plot = \"failures\"\n",
        "plt.scatter(data[plot], data[\"G3\"])\n",
        "plt.legend(loc=4)\n",
        "plt.xlabel(plot)\n",
        "plt.ylabel(\"Final Grade\")\n",
        "plt.show()"
      ],
      "execution_count": 40,
      "outputs": [
        {
          "output_type": "stream",
          "text": [
            "No handles with labels found to put in legend.\n"
          ],
          "name": "stderr"
        },
        {
          "output_type": "stream",
          "text": [
            "Accuracy: 0.8000809706729771\n",
            "Accuracy: 0.8424748549436384\n",
            "Accuracy: 0.7880045342104384\n",
            "Accuracy: 0.889735724858175\n",
            "Accuracy: 0.72844817260162\n",
            "Accuracy: 0.7384393207462819\n",
            "Accuracy: 0.8329601770500357\n",
            "Accuracy: 0.730972459466676\n",
            "Accuracy: 0.8099058003656161\n",
            "Accuracy: 0.8563125651033394\n",
            "Accuracy: 0.8239199694939332\n",
            "Accuracy: 0.8418508427187585\n",
            "Accuracy: 0.8601627309070958\n",
            "Accuracy: 0.7944372176408296\n",
            "Accuracy: 0.9047221363240434\n",
            "Accuracy: 0.8056180680768965\n",
            "Accuracy: 0.7730675514577863\n",
            "Accuracy: 0.7135584381846363\n",
            "Accuracy: 0.7849374791239835\n",
            "Accuracy: 0.7701738738507218\n",
            "-------------------------\n",
            "Coefficient: \n",
            " [ 0.14327402  0.98480632 -0.22432388 -0.3302456   0.03518032]\n",
            "Intercept: \n",
            " -1.344183447644376\n",
            "-------------------------\n",
            "12.109178043934694 [12 12  1  0  4] 13\n",
            "5.519150341614196 [7 6 1 0 5] 7\n",
            "6.819754549221301 [9 8 1 3 6] 10\n",
            "7.13496697240012 [ 8  8  4  0 10] 8\n",
            "11.268060528473315 [10 12  2  1  4] 12\n",
            "13.857019540648404 [13 14  2  0  0] 15\n",
            "11.3953606826792 [ 8 12  1  0  0] 12\n",
            "10.1370126677251 [11 10  1  0  8] 10\n",
            "9.855570096112679 [11 10  1  0  0] 10\n",
            "7.2318115168763555 [8 8 2 0 0] 0\n",
            "3.8849227956765144 [6 5 1 1 0] 0\n",
            "7.077848280283579 [8 8 3 0 2] 10\n",
            "14.049275766952919 [16 14  4  0  6] 15\n",
            "8.503165876177738 [10  9  2  0  0] 0\n",
            "-1.8428740275512263 [5 0 1 3 0] 0\n",
            "16.22997033881572 [16 16  4  0 12] 16\n",
            "9.901999570498766 [12 10  3  0 10] 12\n",
            "9.058150141167518 [ 7 10  2  0  0] 11\n",
            "11.949631055723682 [15 12  3  0  0] 14\n",
            "12.395726081659335 [14 12  1  0  4] 11\n",
            "13.22146370053108 [12 13  2  0 14] 12\n",
            "13.735683892451073 [12 14  3  0  7] 14\n",
            "14.922875722858706 [12 15  1  0  0] 15\n",
            "11.33066544109239 [12 12  4  0  1] 12\n",
            "12.799299843112449 [12 13  2  0  2] 13\n",
            "12.038817401031588 [12 12  1  0  2] 11\n",
            "18.22606688354233 [16 18  2  0  0] 19\n",
            "12.382484130872768 [14 12  2  0 10] 11\n",
            "16.39972825925117 [17 16  2  0  0] 17\n",
            "8.498060410065518 [8 9 2 0 8] 10\n",
            "3.579549055547073 [7 5 3 1 0] 0\n",
            "6.090489225650729 [7 7 3 0 6] 7\n",
            "4.377447295998253 [ 6  5  1  1 14] 5\n",
            "8.50061314312163 [9 9 2 0 4] 10\n",
            "10.721212748157878 [11 11  1  1  6] 10\n",
            "14.985099881087464 [14 15  2  0  0] 15\n",
            "7.302172159779461 [8 8 2 0 2] 8\n",
            "14.393178103233383 [13 15  4  0  0] 15\n",
            "9.631246216616798 [11 10  2  0  0] 10\n",
            "9.35818280874546 [ 9  9  1  0 22] 9\n"
          ],
          "name": "stdout"
        },
        {
          "output_type": "display_data",
          "data": {
            "image/png": "[encoded data removed]",
            "text/plain": [
              "<Figure size 432x288 with 1 Axes>"
            ]
          },
          "metadata": {
            "tags": []
          }
        }
      ]
    }
  ]
}