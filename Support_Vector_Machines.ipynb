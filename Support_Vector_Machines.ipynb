{
  "nbformat": 4,
  "nbformat_minor": 0,
  "metadata": {
    "colab": {
      "name": "Support Vector Machines.ipynb",
      "provenance": [],
      "authorship_tag": "ABX9TyPibklJC/hd+YGHKmbSkeDG",
      "include_colab_link": true
    },
    "kernelspec": {
      "name": "python3",
      "display_name": "Python 3"
    }
  },
  "cells": [
    {
      "cell_type": "markdown",
      "metadata": {
        "id": "view-in-github",
        "colab_type": "text"
      },
      "source": [
        "<a href=\"https://colab.research.google.com/github/sagunala/Machine-Learning/blob/master/Support_Vector_Machines.ipynb\" target=\"_parent\"><img src=\"https://colab.research.google.com/assets/colab-badge.svg\" alt=\"Open In Colab\"/></a>"
      ]
    },
    {
      "cell_type": "code",
      "metadata": {
        "id": "OAnRxBRMRTCQ",
        "colab_type": "code",
        "colab": {}
      },
      "source": [
        "# Import libraries\n",
        "import numpy as np\n",
        "import sklearn\n",
        "from sklearn import svm\n",
        "from sklearn import datasets"
      ],
      "execution_count": 0,
      "outputs": []
    },
    {
      "cell_type": "code",
      "metadata": {
        "id": "BjbhrjfTR4v6",
        "colab_type": "code",
        "colab": {
          "base_uri": "https://localhost:8080/",
          "height": 187
        },
        "outputId": "5027d4e7-e859-4a35-897b-692a36f1c426"
      },
      "source": [
        "#Load datasets\n",
        "cancer = datasets.load_breast_cancer()\n",
        "print(\"Features: \", cancer.feature_names)\n",
        "print(\"Labels: \", cancer.target_names)"
      ],
      "execution_count": 2,
      "outputs": [
        {
          "output_type": "stream",
          "text": [
            "Features:  ['mean radius' 'mean texture' 'mean perimeter' 'mean area'\n",
            " 'mean smoothness' 'mean compactness' 'mean concavity'\n",
            " 'mean concave points' 'mean symmetry' 'mean fractal dimension'\n",
            " 'radius error' 'texture error' 'perimeter error' 'area error'\n",
            " 'smoothness error' 'compactness error' 'concavity error'\n",
            " 'concave points error' 'symmetry error' 'fractal dimension error'\n",
            " 'worst radius' 'worst texture' 'worst perimeter' 'worst area'\n",
            " 'worst smoothness' 'worst compactness' 'worst concavity'\n",
            " 'worst concave points' 'worst symmetry' 'worst fractal dimension']\n",
            "Labels:  ['malignant' 'benign']\n"
          ],
          "name": "stdout"
        }
      ]
    },
    {
      "cell_type": "code",
      "metadata": {
        "id": "pxSDuo3DSrGR",
        "colab_type": "code",
        "colab": {
          "base_uri": "https://localhost:8080/",
          "height": 442
        },
        "outputId": "95c0c65e-5553-41b2-fc5c-920aeffd6247"
      },
      "source": [
        "# Data Split\n",
        "X = cancer.data\n",
        "y = cancer.target\n",
        "X_train, X_test, y_train, y_test = sklearn.model_selection.train_test_split(X, y, test_size = 0.2)\n",
        "print(X_train[:5], y_train[:5])"
      ],
      "execution_count": 7,
      "outputs": [
        {
          "output_type": "stream",
          "text": [
            "[[1.442e+01 1.654e+01 9.415e+01 6.412e+02 9.751e-02 1.139e-01 8.007e-02\n",
            "  4.223e-02 1.912e-01 6.412e-02 3.491e-01 7.706e-01 2.677e+00 3.214e+01\n",
            "  4.577e-03 3.053e-02 3.840e-02 1.243e-02 1.873e-02 3.373e-03 1.667e+01\n",
            "  2.151e+01 1.114e+02 8.621e+02 1.294e-01 3.371e-01 3.755e-01 1.414e-01\n",
            "  3.053e-01 8.764e-02]\n",
            " [1.026e+01 1.471e+01 6.620e+01 3.216e+02 9.882e-02 9.159e-02 3.581e-02\n",
            "  2.037e-02 1.633e-01 7.005e-02 3.380e-01 2.509e+00 2.394e+00 1.933e+01\n",
            "  1.736e-02 4.671e-02 2.611e-02 1.296e-02 3.675e-02 6.758e-03 1.088e+01\n",
            "  1.948e+01 7.089e+01 3.571e+02 1.360e-01 1.636e-01 7.162e-02 4.074e-02\n",
            "  2.434e-01 8.488e-02]\n",
            " [1.422e+01 2.785e+01 9.255e+01 6.239e+02 8.223e-02 1.039e-01 1.103e-01\n",
            "  4.408e-02 1.342e-01 6.129e-02 3.354e-01 2.324e+00 2.105e+00 2.996e+01\n",
            "  6.307e-03 2.845e-02 3.850e-02 1.011e-02 1.185e-02 3.589e-03 1.575e+01\n",
            "  4.054e+01 1.025e+02 7.640e+02 1.081e-01 2.426e-01 3.064e-01 8.219e-02\n",
            "  1.890e-01 7.796e-02]\n",
            " [1.425e+01 2.172e+01 9.363e+01 6.330e+02 9.823e-02 1.098e-01 1.319e-01\n",
            "  5.598e-02 1.885e-01 6.125e-02 2.860e-01 1.019e+00 2.657e+00 2.491e+01\n",
            "  5.878e-03 2.995e-02 4.815e-02 1.161e-02 2.028e-02 4.022e-03 1.589e+01\n",
            "  3.036e+01 1.162e+02 7.996e+02 1.446e-01 4.238e-01 5.186e-01 1.447e-01\n",
            "  3.591e-01 1.014e-01]\n",
            " [1.275e+01 1.670e+01 8.251e+01 4.938e+02 1.125e-01 1.117e-01 3.880e-02\n",
            "  2.995e-02 2.120e-01 6.623e-02 3.834e-01 1.003e+00 2.495e+00 2.862e+01\n",
            "  7.509e-03 1.561e-02 1.977e-02 9.199e-03 1.805e-02 3.629e-03 1.445e+01\n",
            "  2.174e+01 9.363e+01 6.241e+02 1.475e-01 1.979e-01 1.423e-01 8.045e-02\n",
            "  3.071e-01 8.557e-02]] [1 1 1 0 1]\n"
          ],
          "name": "stdout"
        }
      ]
    },
    {
      "cell_type": "code",
      "metadata": {
        "id": "t_Di_4a0UK7E",
        "colab_type": "code",
        "colab": {
          "base_uri": "https://localhost:8080/",
          "height": 34
        },
        "outputId": "9bd41324-9f51-4b6c-ce08-f0fb3cc49d21"
      },
      "source": [
        "from sklearn import svm\n",
        "clf = svm.SVC(kernel = \"linear\", C=3)\n",
        "clf.fit(X_train, y_train)\n",
        "from sklearn import metrics\n",
        "# Predict values for test data\n",
        "y_pred = clf.predict(X_test)\n",
        "# Accuracy or Testing them against actual values\n",
        "acc = metrics.accuracy_score(y_test, y_pred)\n",
        "print(acc)\n"
      ],
      "execution_count": 26,
      "outputs": [
        {
          "output_type": "stream",
          "text": [
            "0.9385964912280702\n"
          ],
          "name": "stdout"
        }
      ]
    }
  ]
}