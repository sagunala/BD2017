{
  "nbformat": 4,
  "nbformat_minor": 0,
  "metadata": {
    "colab": {
      "name": "KNearestNeighbor.ipynb",
      "provenance": [],
      "authorship_tag": "ABX9TyOfcPmKBpOqcaqgP0VebVzP",
      "include_colab_link": true
    },
    "kernelspec": {
      "name": "python3",
      "display_name": "Python 3"
    }
  },
  "cells": [
    {
      "cell_type": "markdown",
      "metadata": {
        "id": "view-in-github",
        "colab_type": "text"
      },
      "source": [
        "<a href=\"https://colab.research.google.com/github/sagunala/BD2017/blob/master/KNearestNeighbor.ipynb\" target=\"_parent\"><img src=\"https://colab.research.google.com/assets/colab-badge.svg\" alt=\"Open In Colab\"/></a>"
      ]
    },
    {
      "cell_type": "code",
      "metadata": {
        "id": "RKEgyAus_-MH",
        "colab_type": "code",
        "colab": {}
      },
      "source": [
        "# importing libraries\n",
        "import numpy as np\n",
        "import pandas as pd\n",
        "import sklearn\n",
        "from sklearn.utils import shuffle\n",
        "from sklearn.neighbors import KNeighborsClassifier\n",
        "from sklearn import linear_model, preprocessing"
      ],
      "execution_count": 0,
      "outputs": []
    },
    {
      "cell_type": "code",
      "metadata": {
        "id": "08hpllb0Cb5G",
        "colab_type": "code",
        "colab": {
          "base_uri": "https://localhost:8080/",
          "height": 119
        },
        "outputId": "e8306a1d-cd63-49da-dc05-0e72a9d4a0ad"
      },
      "source": [
        "# load data\n",
        "data = pd.read_csv(\"car.data\")\n",
        "print(data.head())"
      ],
      "execution_count": 3,
      "outputs": [
        {
          "output_type": "stream",
          "text": [
            "  buying  maint door persons lug_boot safety  class\n",
            "0  vhigh  vhigh    2       2    small    low  unacc\n",
            "1  vhigh  vhigh    2       2    small    med  unacc\n",
            "2  vhigh  vhigh    2       2    small   high  unacc\n",
            "3  vhigh  vhigh    2       2      med    low  unacc\n",
            "4  vhigh  vhigh    2       2      med    med  unacc\n"
          ],
          "name": "stdout"
        }
      ]
    },
    {
      "cell_type": "code",
      "metadata": {
        "id": "Z-BMDIpWDIIJ",
        "colab_type": "code",
        "colab": {}
      },
      "source": [
        "# Converting non-numeric data to numeric\n",
        "le = preprocessing.LabelEncoder()\n",
        "buying = le.fit_transform(list(data[\"buying\"]))\n",
        "maint = le.fit_transform(list(data[\"maint\"]))\n",
        "door = le.fit_transform(list(data[\"door\"]))\n",
        "persons = le.fit_transform(list(data[\"persons\"]))\n",
        "lug_boot = le.fit_transform(list(data[\"lug_boot\"]))\n",
        "safety = le.fit_transform(list(data[\"safety\"]))\n",
        "cls = le.fit_transform(list(data[\"class\"]))"
      ],
      "execution_count": 0,
      "outputs": []
    },
    {
      "cell_type": "code",
      "metadata": {
        "id": "4TIAfXFnEGOD",
        "colab_type": "code",
        "colab": {}
      },
      "source": [
        "# Recombine data into a feature list and a label list using Zip function\n",
        "X = list(zip(buying, maint, door, persons, lug_boot, safety))  # features\n",
        "y = list(cls)  # labels"
      ],
      "execution_count": 0,
      "outputs": []
    },
    {
      "cell_type": "code",
      "metadata": {
        "id": "CUduzK_UEYe0",
        "colab_type": "code",
        "colab": {}
      },
      "source": [
        "#Split data\n",
        "X_train, X_test, y_train,y_test = sklearn.model_selection.train_test_split(X, y, test_size=0.1)"
      ],
      "execution_count": 0,
      "outputs": []
    },
    {
      "cell_type": "code",
      "metadata": {
        "id": "1QxlWZc3HoT1",
        "colab_type": "code",
        "colab": {}
      },
      "source": [
        "# Training a KNN Classifier\n",
        "from sklearn.neighbors import KNeighborsClassifier\n",
        "model = KNeighborsClassifier(n_neighbors=9)"
      ],
      "execution_count": 0,
      "outputs": []
    },
    {
      "cell_type": "code",
      "metadata": {
        "id": "dqMDP4_SICvL",
        "colab_type": "code",
        "colab": {
          "base_uri": "https://localhost:8080/",
          "height": 34
        },
        "outputId": "8761b185-bf02-4d51-bdf2-7361d7ff8588"
      },
      "source": [
        "# To train our model\n",
        "model.fit(X_train, y_train)\n",
        "# Calculate Accuracy\n",
        "acc = model.score(X_test, y_test)\n",
        "print(acc)"
      ],
      "execution_count": 9,
      "outputs": [
        {
          "output_type": "stream",
          "text": [
            "0.9017341040462428\n"
          ],
          "name": "stdout"
        }
      ]
    },
    {
      "cell_type": "code",
      "metadata": {
        "id": "nPLrRKeWI_Ci",
        "colab_type": "code",
        "colab": {
          "base_uri": "https://localhost:8080/",
          "height": 1000
        },
        "outputId": "c152b1ea-2ae1-4c95-d87b-6971994f494d"
      },
      "source": [
        "# Testing Our Model\n",
        "predicted = model.predict(X_test)\n",
        "names = [\"unacc\", \"acc\", \"good\", \"vgood\"]\n",
        "\n",
        "for x in range(len(predicted)):\n",
        "    print(\"Predicted: \", names[predicted[x]], \"Data: \", X_test[x], \"Actual: \", names[y_test[x]])\n",
        "\n",
        "# This will display the predicted class, our data and the actual class\n",
        "# We create a names list so that we can convert our integer predictions into \n",
        "# their string representation "
      ],
      "execution_count": 11,
      "outputs": [
        {
          "output_type": "stream",
          "text": [
            "Predicted:  good Data:  (3, 1, 0, 2, 2, 1) Actual:  good\n",
            "Predicted:  good Data:  (2, 3, 3, 0, 1, 0) Actual:  good\n",
            "Predicted:  unacc Data:  (0, 0, 3, 2, 1, 2) Actual:  unacc\n",
            "Predicted:  unacc Data:  (2, 2, 0, 1, 1, 2) Actual:  unacc\n",
            "Predicted:  unacc Data:  (2, 0, 3, 1, 1, 0) Actual:  unacc\n",
            "Predicted:  vgood Data:  (1, 0, 1, 1, 0, 0) Actual:  vgood\n",
            "Predicted:  good Data:  (0, 0, 0, 0, 2, 1) Actual:  good\n",
            "Predicted:  good Data:  (3, 2, 0, 2, 2, 0) Actual:  good\n",
            "Predicted:  good Data:  (2, 0, 1, 0, 1, 2) Actual:  good\n",
            "Predicted:  unacc Data:  (0, 1, 1, 2, 1, 0) Actual:  unacc\n",
            "Predicted:  good Data:  (2, 3, 0, 2, 2, 1) Actual:  good\n",
            "Predicted:  good Data:  (3, 0, 1, 0, 0, 0) Actual:  good\n",
            "Predicted:  good Data:  (2, 0, 1, 0, 2, 0) Actual:  good\n",
            "Predicted:  good Data:  (2, 1, 2, 1, 2, 1) Actual:  good\n",
            "Predicted:  good Data:  (2, 2, 1, 2, 0, 1) Actual:  good\n",
            "Predicted:  good Data:  (0, 2, 1, 1, 2, 1) Actual:  good\n",
            "Predicted:  good Data:  (3, 0, 4, 1, 0, 1) Actual:  good\n",
            "Predicted:  vgood Data:  (1, 1, 2, 2, 0, 0) Actual:  vgood\n",
            "Predicted:  good Data:  (1, 0, 0, 1, 2, 2) Actual:  unacc\n",
            "Predicted:  good Data:  (0, 1, 1, 0, 2, 2) Actual:  good\n",
            "Predicted:  unacc Data:  (3, 1, 1, 1, 1, 0) Actual:  unacc\n",
            "Predicted:  good Data:  (0, 0, 3, 0, 2, 1) Actual:  good\n",
            "Predicted:  good Data:  (3, 2, 0, 1, 1, 2) Actual:  good\n",
            "Predicted:  vgood Data:  (1, 1, 3, 1, 0, 0) Actual:  vgood\n",
            "Predicted:  good Data:  (3, 2, 0, 0, 1, 1) Actual:  good\n",
            "Predicted:  good Data:  (2, 3, 1, 0, 1, 0) Actual:  good\n",
            "Predicted:  good Data:  (3, 3, 3, 2, 2, 0) Actual:  good\n",
            "Predicted:  good Data:  (2, 1, 0, 0, 1, 2) Actual:  good\n",
            "Predicted:  good Data:  (1, 1, 1, 0, 1, 2) Actual:  good\n",
            "Predicted:  good Data:  (1, 1, 1, 1, 0, 1) Actual:  good\n",
            "Predicted:  good Data:  (1, 2, 3, 0, 1, 0) Actual:  good\n",
            "Predicted:  unacc Data:  (2, 0, 1, 1, 1, 2) Actual:  good\n",
            "Predicted:  unacc Data:  (0, 2, 3, 1, 1, 0) Actual:  unacc\n",
            "Predicted:  unacc Data:  (0, 1, 1, 1, 2, 0) Actual:  unacc\n",
            "Predicted:  good Data:  (2, 3, 3, 0, 0, 1) Actual:  good\n",
            "Predicted:  unacc Data:  (0, 1, 0, 2, 1, 0) Actual:  unacc\n",
            "Predicted:  unacc Data:  (2, 1, 2, 2, 1, 2) Actual:  acc\n",
            "Predicted:  good Data:  (0, 3, 3, 2, 1, 2) Actual:  good\n",
            "Predicted:  good Data:  (3, 3, 3, 0, 0, 0) Actual:  good\n",
            "Predicted:  good Data:  (2, 2, 0, 0, 0, 0) Actual:  good\n",
            "Predicted:  good Data:  (0, 1, 2, 0, 0, 0) Actual:  good\n",
            "Predicted:  good Data:  (2, 3, 2, 1, 1, 2) Actual:  unacc\n",
            "Predicted:  good Data:  (3, 1, 3, 0, 0, 0) Actual:  good\n",
            "Predicted:  good Data:  (3, 0, 1, 2, 2, 0) Actual:  good\n",
            "Predicted:  good Data:  (3, 3, 2, 0, 0, 0) Actual:  good\n",
            "Predicted:  good Data:  (3, 3, 2, 0, 2, 2) Actual:  good\n",
            "Predicted:  unacc Data:  (1, 0, 1, 1, 1, 0) Actual:  unacc\n",
            "Predicted:  good Data:  (3, 0, 0, 1, 0, 0) Actual:  good\n",
            "Predicted:  good Data:  (3, 0, 4, 2, 2, 0) Actual:  good\n",
            "Predicted:  good Data:  (0, 2, 0, 0, 0, 0) Actual:  good\n",
            "Predicted:  good Data:  (3, 3, 1, 0, 1, 2) Actual:  good\n",
            "Predicted:  good Data:  (0, 0, 0, 1, 2, 1) Actual:  good\n",
            "Predicted:  good Data:  (2, 2, 2, 0, 2, 0) Actual:  good\n",
            "Predicted:  unacc Data:  (1, 0, 3, 1, 2, 0) Actual:  unacc\n",
            "Predicted:  unacc Data:  (1, 1, 1, 1, 2, 2) Actual:  unacc\n",
            "Predicted:  good Data:  (0, 0, 2, 1, 0, 1) Actual:  good\n",
            "Predicted:  good Data:  (0, 0, 0, 2, 1, 2) Actual:  good\n",
            "Predicted:  good Data:  (3, 1, 0, 1, 1, 2) Actual:  good\n",
            "Predicted:  unacc Data:  (0, 1, 2, 1, 1, 2) Actual:  unacc\n",
            "Predicted:  unacc Data:  (1, 2, 0, 1, 2, 0) Actual:  acc\n",
            "Predicted:  unacc Data:  (3, 1, 3, 1, 1, 2) Actual:  unacc\n",
            "Predicted:  unacc Data:  (0, 0, 2, 2, 0, 2) Actual:  unacc\n",
            "Predicted:  good Data:  (1, 3, 3, 0, 1, 2) Actual:  good\n",
            "Predicted:  good Data:  (3, 3, 1, 0, 2, 1) Actual:  good\n",
            "Predicted:  good Data:  (0, 1, 1, 1, 1, 2) Actual:  good\n",
            "Predicted:  good Data:  (1, 0, 3, 0, 0, 1) Actual:  good\n",
            "Predicted:  good Data:  (0, 3, 0, 1, 2, 2) Actual:  good\n",
            "Predicted:  good Data:  (2, 0, 0, 0, 2, 1) Actual:  good\n",
            "Predicted:  good Data:  (0, 0, 1, 0, 1, 2) Actual:  good\n",
            "Predicted:  unacc Data:  (2, 2, 2, 2, 2, 2) Actual:  unacc\n",
            "Predicted:  good Data:  (1, 2, 1, 1, 2, 2) Actual:  unacc\n",
            "Predicted:  good Data:  (3, 3, 0, 2, 2, 0) Actual:  good\n",
            "Predicted:  vgood Data:  (1, 0, 2, 2, 0, 0) Actual:  vgood\n",
            "Predicted:  good Data:  (0, 2, 2, 2, 2, 1) Actual:  good\n",
            "Predicted:  vgood Data:  (2, 2, 2, 2, 1, 0) Actual:  vgood\n",
            "Predicted:  unacc Data:  (1, 0, 3, 2, 2, 2) Actual:  unacc\n",
            "Predicted:  unacc Data:  (2, 2, 3, 2, 2, 0) Actual:  unacc\n",
            "Predicted:  good Data:  (1, 1, 1, 0, 2, 2) Actual:  good\n",
            "Predicted:  good Data:  (3, 0, 2, 0, 2, 0) Actual:  good\n",
            "Predicted:  good Data:  (3, 0, 2, 1, 2, 1) Actual:  good\n",
            "Predicted:  good Data:  (0, 1, 0, 1, 2, 1) Actual:  good\n",
            "Predicted:  good Data:  (1, 2, 1, 0, 0, 0) Actual:  good\n",
            "Predicted:  good Data:  (3, 0, 4, 2, 2, 2) Actual:  good\n",
            "Predicted:  good Data:  (2, 3, 0, 1, 2, 2) Actual:  good\n",
            "Predicted:  good Data:  (3, 2, 3, 1, 1, 1) Actual:  good\n",
            "Predicted:  acc Data:  (1, 1, 2, 2, 2, 0) Actual:  acc\n",
            "Predicted:  good Data:  (1, 2, 2, 1, 2, 2) Actual:  unacc\n",
            "Predicted:  good Data:  (3, 0, 1, 0, 1, 1) Actual:  good\n",
            "Predicted:  good Data:  (3, 2, 1, 2, 1, 1) Actual:  good\n",
            "Predicted:  good Data:  (0, 2, 1, 0, 2, 0) Actual:  good\n",
            "Predicted:  good Data:  (0, 3, 0, 0, 1, 0) Actual:  good\n",
            "Predicted:  good Data:  (3, 1, 0, 1, 2, 0) Actual:  unacc\n",
            "Predicted:  unacc Data:  (0, 0, 2, 2, 1, 2) Actual:  unacc\n",
            "Predicted:  unacc Data:  (1, 2, 3, 2, 1, 2) Actual:  acc\n",
            "Predicted:  good Data:  (3, 3, 0, 0, 1, 0) Actual:  good\n",
            "Predicted:  good Data:  (0, 2, 1, 1, 1, 2) Actual:  good\n",
            "Predicted:  good Data:  (2, 0, 3, 1, 0, 0) Actual:  unacc\n",
            "Predicted:  good Data:  (0, 1, 3, 2, 1, 1) Actual:  good\n",
            "Predicted:  unacc Data:  (2, 1, 3, 2, 2, 2) Actual:  unacc\n",
            "Predicted:  good Data:  (3, 0, 0, 1, 1, 0) Actual:  good\n",
            "Predicted:  good Data:  (3, 1, 1, 1, 2, 2) Actual:  good\n",
            "Predicted:  unacc Data:  (0, 1, 3, 1, 2, 0) Actual:  unacc\n",
            "Predicted:  good Data:  (2, 1, 1, 0, 2, 0) Actual:  good\n",
            "Predicted:  good Data:  (3, 3, 3, 2, 2, 1) Actual:  good\n",
            "Predicted:  unacc Data:  (0, 0, 0, 1, 0, 0) Actual:  unacc\n",
            "Predicted:  good Data:  (3, 1, 1, 2, 1, 1) Actual:  good\n",
            "Predicted:  good Data:  (3, 2, 0, 2, 0, 1) Actual:  good\n",
            "Predicted:  good Data:  (0, 3, 3, 1, 0, 1) Actual:  good\n",
            "Predicted:  good Data:  (3, 0, 1, 1, 1, 0) Actual:  good\n",
            "Predicted:  good Data:  (3, 2, 3, 1, 2, 1) Actual:  good\n",
            "Predicted:  good Data:  (3, 2, 2, 2, 2, 2) Actual:  good\n",
            "Predicted:  acc Data:  (1, 1, 1, 2, 0, 2) Actual:  acc\n",
            "Predicted:  unacc Data:  (1, 2, 2, 2, 2, 2) Actual:  unacc\n",
            "Predicted:  unacc Data:  (1, 2, 1, 2, 2, 0) Actual:  acc\n",
            "Predicted:  good Data:  (3, 1, 2, 0, 1, 2) Actual:  good\n",
            "Predicted:  good Data:  (3, 1, 1, 1, 2, 0) Actual:  unacc\n",
            "Predicted:  unacc Data:  (2, 0, 1, 2, 0, 2) Actual:  unacc\n",
            "Predicted:  good Data:  (0, 2, 2, 1, 2, 1) Actual:  good\n",
            "Predicted:  good Data:  (3, 2, 3, 0, 0, 1) Actual:  good\n",
            "Predicted:  unacc Data:  (1, 3, 1, 1, 0, 0) Actual:  unacc\n",
            "Predicted:  good Data:  (0, 2, 0, 0, 1, 2) Actual:  good\n",
            "Predicted:  unacc Data:  (0, 1, 0, 1, 1, 0) Actual:  unacc\n",
            "Predicted:  unacc Data:  (0, 2, 3, 2, 0, 0) Actual:  unacc\n",
            "Predicted:  good Data:  (0, 3, 3, 0, 0, 2) Actual:  good\n",
            "Predicted:  good Data:  (3, 2, 0, 2, 2, 1) Actual:  good\n",
            "Predicted:  good Data:  (2, 2, 3, 0, 1, 1) Actual:  good\n",
            "Predicted:  good Data:  (3, 3, 3, 1, 1, 0) Actual:  good\n",
            "Predicted:  unacc Data:  (2, 3, 2, 1, 0, 2) Actual:  unacc\n",
            "Predicted:  unacc Data:  (0, 0, 1, 2, 0, 2) Actual:  unacc\n",
            "Predicted:  vgood Data:  (1, 2, 2, 2, 0, 0) Actual:  vgood\n",
            "Predicted:  good Data:  (2, 3, 3, 1, 0, 1) Actual:  good\n",
            "Predicted:  good Data:  (3, 1, 0, 2, 1, 1) Actual:  good\n",
            "Predicted:  good Data:  (0, 1, 2, 0, 2, 2) Actual:  good\n",
            "Predicted:  good Data:  (1, 2, 0, 0, 0, 2) Actual:  good\n",
            "Predicted:  vgood Data:  (1, 2, 3, 1, 1, 0) Actual:  vgood\n",
            "Predicted:  unacc Data:  (2, 3, 2, 1, 0, 0) Actual:  unacc\n",
            "Predicted:  unacc Data:  (3, 2, 1, 2, 0, 0) Actual:  unacc\n",
            "Predicted:  acc Data:  (2, 1, 1, 2, 0, 2) Actual:  acc\n",
            "Predicted:  good Data:  (2, 1, 1, 1, 2, 1) Actual:  good\n",
            "Predicted:  unacc Data:  (2, 1, 3, 2, 0, 2) Actual:  acc\n",
            "Predicted:  good Data:  (2, 1, 1, 1, 0, 1) Actual:  good\n",
            "Predicted:  good Data:  (3, 2, 1, 0, 1, 2) Actual:  good\n",
            "Predicted:  unacc Data:  (2, 3, 1, 2, 2, 0) Actual:  unacc\n",
            "Predicted:  unacc Data:  (0, 1, 2, 1, 0, 2) Actual:  unacc\n",
            "Predicted:  good Data:  (3, 0, 0, 0, 2, 2) Actual:  good\n",
            "Predicted:  good Data:  (3, 0, 0, 1, 0, 1) Actual:  good\n",
            "Predicted:  good Data:  (0, 0, 3, 0, 1, 2) Actual:  good\n",
            "Predicted:  acc Data:  (1, 2, 2, 1, 2, 0) Actual:  acc\n",
            "Predicted:  good Data:  (2, 2, 2, 1, 2, 2) Actual:  unacc\n",
            "Predicted:  good Data:  (2, 1, 3, 1, 0, 1) Actual:  good\n",
            "Predicted:  good Data:  (2, 2, 1, 1, 2, 1) Actual:  good\n",
            "Predicted:  good Data:  (2, 2, 1, 1, 2, 2) Actual:  unacc\n",
            "Predicted:  good Data:  (3, 0, 0, 2, 0, 1) Actual:  good\n",
            "Predicted:  good Data:  (1, 0, 1, 1, 2, 2) Actual:  unacc\n",
            "Predicted:  unacc Data:  (1, 3, 0, 2, 0, 0) Actual:  unacc\n",
            "Predicted:  good Data:  (2, 1, 0, 2, 1, 1) Actual:  good\n",
            "Predicted:  good Data:  (1, 0, 0, 0, 1, 0) Actual:  good\n",
            "Predicted:  good Data:  (0, 2, 3, 0, 2, 2) Actual:  good\n",
            "Predicted:  good Data:  (1, 0, 0, 0, 2, 1) Actual:  good\n",
            "Predicted:  good Data:  (1, 2, 0, 2, 2, 2) Actual:  good\n",
            "Predicted:  unacc Data:  (0, 1, 3, 1, 0, 0) Actual:  unacc\n",
            "Predicted:  good Data:  (3, 1, 2, 2, 2, 1) Actual:  good\n",
            "Predicted:  good Data:  (1, 0, 2, 2, 0, 1) Actual:  good\n",
            "Predicted:  unacc Data:  (1, 2, 1, 1, 1, 2) Actual:  unacc\n",
            "Predicted:  good Data:  (2, 1, 1, 1, 1, 1) Actual:  good\n",
            "Predicted:  good Data:  (0, 3, 3, 1, 1, 1) Actual:  good\n",
            "Predicted:  good Data:  (3, 2, 3, 0, 0, 0) Actual:  good\n",
            "Predicted:  good Data:  (2, 3, 3, 2, 2, 1) Actual:  good\n",
            "Predicted:  good Data:  (3, 2, 0, 1, 0, 1) Actual:  good\n",
            "Predicted:  unacc Data:  (3, 2, 0, 1, 1, 0) Actual:  unacc\n",
            "Predicted:  good Data:  (3, 3, 2, 0, 1, 2) Actual:  good\n",
            "Predicted:  good Data:  (3, 2, 0, 2, 0, 0) Actual:  unacc\n",
            "Predicted:  good Data:  (0, 3, 1, 1, 0, 0) Actual:  good\n"
          ],
          "name": "stdout"
        }
      ]
    },
    {
      "cell_type": "code",
      "metadata": {
        "id": "bBLj6FJLJ98o",
        "colab_type": "code",
        "colab": {
          "base_uri": "https://localhost:8080/",
          "height": 51
        },
        "outputId": "049124f8-7cb1-4e3e-9f68-794784c96089"
      },
      "source": [
        "# Now we will we see the neighbors of each point in our testing data\n",
        "    n = model.kneighbors([X_test[x]], 9, True)\n",
        "    print(\"N: \", n)"
      ],
      "execution_count": 13,
      "outputs": [
        {
          "output_type": "stream",
          "text": [
            "N:  (array([[1.        , 1.        , 1.        , 1.        , 1.        ,\n",
            "        1.        , 1.        , 1.41421356, 1.41421356]]), array([[ 911,  709, 1118, 1013,  765, 1255, 1243,  966,   53]]))\n"
          ],
          "name": "stdout"
        }
      ]
    }
  ]
}